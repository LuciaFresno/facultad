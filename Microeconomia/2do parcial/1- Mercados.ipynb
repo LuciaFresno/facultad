{
 "cells": [
  {
   "cell_type": "markdown",
   "metadata": {},
   "source": [
    "# Mercados\n",
    "\n",
    "Clase Video: https://economicasuba-my.sharepoint.com/:v:/g/personal/96bi42292886_campus_economicas_uba_ar/EeJ_31HeINtBgVYV7r9roMoBxqcgaOy3qtFS9fKTK20plA?e=HDIcro\n",
    "\n",
    "Mercados.pdf: https://drive.google.com/file/d/1BbyPQH7yoE8x_D9oJMhtTX2ZRYeuAuQZ/view?usp=sharing\n",
    "\n",
    "Hasta el momento estudiamos el comportamiento de los individuos:\n",
    "i. Consumidores: tomando elecciones de consumo\n",
    "ii. Unidades productivas: que movilizan factores (insumos) a los fines de producir un bien o servicio\n",
    "\n",
    "Su interacción se da en el mercado.\n",
    "\n",
    "Qué es un mercado?\n",
    "\n",
    "Espacio en el que un conjunto de consumidores y de productores se interrelacionan para transar bienes y servicios.\n",
    "\n",
    "Mercado relevante\n",
    "\n",
    "Dos dimensiones.\n",
    "\n",
    "1. Establecer cual es el mercado de producto que agrupa a los distintos bienes o servicios con competencia efectiva o potencial entre si, y donde puede existir sustitución.\n",
    "\n",
    "2. Definición del aspecto geográfico. Bajo esta definición, la extensión geográfica determina las estrategias de las empresas intervinientes.\n",
    "\n",
    "\n",
    "Condiciones básicas:\n",
    "Contexto macroeconómico\n",
    "Condición climática\n",
    "Derecho de propiedad privada\n",
    "Sindicalización de la fuerza de trabajo\n",
    "Heterogeneidad de la demanda\n",
    "\n",
    "Estructura: (Politica pub)\n",
    "#firmas, # consumidores\n",
    "Tecnología de producción, F. de Costo\n",
    "\n",
    "\n",
    "Conducta: (Politica pub)\n",
    "q y p\n",
    "I&D, gasto en publicidad,\n",
    "Integración vertical,\n",
    "Restricción vertical,\n",
    "Diferenciación vertical y horizontal\n",
    "\n",
    "Desempeño:\n",
    "utilidd, beneficio, Excedente del consumidor y del productor\n",
    "\n",
    "\n",
    "\n",
    "\n",
    "Guia: https://drive.google.com/file/d/1pmR8dMCCnapUQ-cDk-IiOvqhXYIiz35_/view?usp=sharing\n",
    "\n",
    "### Ejercicio 1\n",
    "1. Defina que es un mercado de competencia perfecta. ¿Qué características tiene? ¿Qué precio cobrarán las empresas por sus productos?"
   ]
  },
  {
   "cell_type": "markdown",
   "metadata": {},
   "source": [
    "### Ejercicio 2\n",
    "2. ¿Cuál es la curva de oferta de una empresa en el corto plazo en un mercado de competencia perfecta? ¿Cómo determina el punto óptimo de producción con dicha curva?"
   ]
  },
  {
   "cell_type": "markdown",
   "metadata": {},
   "source": [
    "### Ejercicio 3\n",
    "3. Considere un mercado de competencia perfecta con libre entrada donde intervienen muchas empresas iguales. ¿Es posible que el precio de mercado sea mayor al coste medio mínimo de dichas empresas? Justifique su respuesta."
   ]
  },
  {
   "cell_type": "markdown",
   "metadata": {},
   "source": [
    "### Ejercicio 4\n",
    "4. Si los beneficios de una empresa competitiva en el largo plazo son aproximadamente cero. ¿Qué puede decir del mercado en el que dicha empresa participa? ¿Implica esto que el capital no recibe retribución alguna? ¿Implica esto que el empresario no recibe retribución alguna? Explique su respuesta."
   ]
  },
  {
   "cell_type": "markdown",
   "metadata": {},
   "source": [
    "### Ejercicio 5\n",
    "5. En un mercado de competencia perfecta:\n",
    "a) ¿Qué beneficios obtiene una empresa cuyos costos medios mínimos son superiores al precio de mercado?\n",
    "b) ¿Qué sucede en el corto plazo con estas empresas? ¿Siguen produciendo o se retiran? ¿De qué depende su decisión? ¿Y en el largo plazo?"
   ]
  },
  {
   "cell_type": "code",
   "execution_count": null,
   "metadata": {},
   "outputs": [],
   "source": []
  }
 ],
 "metadata": {
  "kernelspec": {
   "display_name": "Python 3",
   "language": "python",
   "name": "python3"
  },
  "language_info": {
   "codemirror_mode": {
    "name": "ipython",
    "version": 3
   },
   "file_extension": ".py",
   "mimetype": "text/x-python",
   "name": "python",
   "nbconvert_exporter": "python",
   "pygments_lexer": "ipython3",
   "version": "3.7.6"
  }
 },
 "nbformat": 4,
 "nbformat_minor": 4
}
