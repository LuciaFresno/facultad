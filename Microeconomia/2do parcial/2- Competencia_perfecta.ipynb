{
 "cells": [
  {
   "cell_type": "markdown",
   "metadata": {},
   "source": [
    "# Competencia perfecta\n",
    "\n",
    "Clase video: https://economicasuba-my.sharepoint.com/:v:/g/personal/96bi42292886_campus_economicas_uba_ar/EX6N21PJrvtNsYrSenZL6jQB_SoKPFFLd-YooDZKlvlP3A?e=GkMzNF\n",
    "Problemas de Competencia Perfecta: https://drive.google.com/file/d/1HCswIhqA_KqtP-jw9VjLsLX9-QM9afYU/view?usp=sharing\n",
    "Guia: https://drive.google.com/file/d/1pmR8dMCCnapUQ-cDk-IiOvqhXYIiz35_/view?usp=sharing\n",
    "\n",
    "\n",
    "\n",
    "### Ejercicio 6\n",
    "Considere una ciudad con un mercado perfectamente competitivo de taxis, es decir, el precio no se encuentra regulado por una autoridad estatal. El costo marginal de cada viaje es constante e igual a $ 10 y cada taxi puede realizar, en promedio, 25 viajes diarios. Si la función de demanda de viajes en taxi es Q(p) = 2000 - 15p\n",
    "a) ¿Cuál es el precio de equilibrio de un viaje?\n",
    "b) ¿Cuál es, en equilibrio, el número de viajes diarios?\n",
    "c) ¿Cuál es, en equilibrio, el número de taxis de la ciudad?\n",
    "\n",
    "Si la curva de demanda se desplaza a Q(p) = 1220 - 20 p\n",
    "e) ¿Cuál será ahora el precio de equilibrio de un viaje?\n",
    "f) ¿Cuáles son ahora los beneficios de un taxista por cada viaje?\n",
    "\n",
    "\n"
   ]
  },
  {
   "cell_type": "code",
   "execution_count": null,
   "metadata": {},
   "outputs": [],
   "source": []
  },
  {
   "cell_type": "markdown",
   "metadata": {},
   "source": [
    "### Ejercicio 7\n",
    "7.1 Considere una economía en la que existen 100 individuos homogéneos, donde la función de utilidad[i] que los representa es para todo i = 1..100\n"
   ]
  },
  {
   "cell_type": "code",
   "execution_count": 223,
   "metadata": {},
   "outputs": [],
   "source": [
    "import sympy as sp\n",
    "x, y, t, L, m, py, px, n  = sp.symbols('x, y, t, L, m, py, px, n')"
   ]
  },
  {
   "cell_type": "code",
   "execution_count": 59,
   "metadata": {},
   "outputs": [],
   "source": [
    "cantidad_de_empresas = 100\n",
    "utilidad = 100*(x**2)*(y**2)\n",
    "ingreso = px * x"
   ]
  },
  {
   "cell_type": "markdown",
   "metadata": {},
   "source": [
    "Y cada uno dispone de una renta m=120$."
   ]
  },
  {
   "cell_type": "code",
   "execution_count": 60,
   "metadata": {},
   "outputs": [],
   "source": [
    "renta = 120 - px*x - py*y"
   ]
  },
  {
   "cell_type": "markdown",
   "metadata": {},
   "source": [
    "A su vez, existen 100 empresas con la misma tecnología. La función de costos de cada empresa es CT[j] para todo j = 1...100"
   ]
  },
  {
   "cell_type": "code",
   "execution_count": 61,
   "metadata": {},
   "outputs": [],
   "source": [
    "i_range = range(cantidad_de_empresas)\n",
    "CT = (x**2) + 0.1 * x + 10"
   ]
  },
  {
   "cell_type": "markdown",
   "metadata": {},
   "source": [
    "a) Para hallar la función de demanda agregada del bien x tenemos que partir del problema del consumidor individual: Maximizo utilidad sujeta a CT"
   ]
  },
  {
   "cell_type": "code",
   "execution_count": 62,
   "metadata": {},
   "outputs": [],
   "source": [
    "j_range = range(cantidad_de_empresas)\n",
    "L = utilidad + t*renta"
   ]
  },
  {
   "cell_type": "markdown",
   "metadata": {},
   "source": [
    "Planteo condiciones de primer orden y despejo"
   ]
  },
  {
   "cell_type": "code",
   "execution_count": 63,
   "metadata": {},
   "outputs": [
    {
     "data": {
      "text/latex": [
       "$\\displaystyle \\frac{200 x y^{2}}{px}$"
      ],
      "text/plain": [
       "200*x*y**2/px"
      ]
     },
     "execution_count": 63,
     "metadata": {},
     "output_type": "execute_result"
    }
   ],
   "source": [
    "Lx = sp.diff(L, x)\n",
    "Lx = sp.Eq(Lx,0)\n",
    "Lx = sp.solve(Lx, t)\n",
    "Lx[0]\n"
   ]
  },
  {
   "cell_type": "code",
   "execution_count": 64,
   "metadata": {},
   "outputs": [
    {
     "data": {
      "text/latex": [
       "$\\displaystyle \\frac{200 x^{2} y}{py}$"
      ],
      "text/plain": [
       "200*x**2*y/py"
      ]
     },
     "execution_count": 64,
     "metadata": {},
     "output_type": "execute_result"
    }
   ],
   "source": [
    "Ly = sp.diff(L, y)\n",
    "Ly = sp.Eq(Ly,0)\n",
    "Ly = sp.solve(Ly, t)\n",
    "Ly[0]\n"
   ]
  },
  {
   "cell_type": "code",
   "execution_count": 65,
   "metadata": {},
   "outputs": [
    {
     "data": {
      "text/latex": [
       "$\\displaystyle - \\frac{200 x^{2} y}{py} + \\frac{200 x y^{2}}{px} = 0$"
      ],
      "text/plain": [
       "Eq(-200*x**2*y/py + 200*x*y**2/px, 0)"
      ]
     },
     "execution_count": 65,
     "metadata": {},
     "output_type": "execute_result"
    }
   ],
   "source": [
    "ig = sp.Eq(Lx[0]-Ly[0], 0)\n",
    "ig"
   ]
  },
  {
   "cell_type": "code",
   "execution_count": 66,
   "metadata": {},
   "outputs": [
    {
     "data": {
      "text/latex": [
       "$\\displaystyle \\frac{px x}{py}$"
      ],
      "text/plain": [
       "px*x/py"
      ]
     },
     "execution_count": 66,
     "metadata": {},
     "output_type": "execute_result"
    }
   ],
   "source": [
    "sp.solve(ig, y)[1]"
   ]
  },
  {
   "cell_type": "code",
   "execution_count": 67,
   "metadata": {},
   "outputs": [],
   "source": [
    "igx = sp.solve(ig, x)[1]\n",
    "igy = sp.solve(ig, y)[1]"
   ]
  },
  {
   "cell_type": "code",
   "execution_count": 68,
   "metadata": {},
   "outputs": [
    {
     "data": {
      "text/latex": [
       "$\\displaystyle - px x - py y + 120$"
      ],
      "text/plain": [
       "-px*x - py*y + 120"
      ]
     },
     "execution_count": 68,
     "metadata": {},
     "output_type": "execute_result"
    }
   ],
   "source": [
    "Lt = sp.diff(L, t)\n",
    "Lt\n"
   ]
  },
  {
   "cell_type": "markdown",
   "metadata": {},
   "source": [
    "Las funciones de demanda resultantes son:"
   ]
  },
  {
   "cell_type": "code",
   "execution_count": 69,
   "metadata": {},
   "outputs": [
    {
     "data": {
      "text/latex": [
       "$\\displaystyle \\frac{60}{py}$"
      ],
      "text/plain": [
       "60/py"
      ]
     },
     "execution_count": 69,
     "metadata": {},
     "output_type": "execute_result"
    }
   ],
   "source": [
    "demanda_individual_y = Lt.subs(x, igx )\n",
    "demanda_individual_y = sp.solve(demanda_individual_y, y)[0]\n",
    "demanda_individual_y"
   ]
  },
  {
   "cell_type": "code",
   "execution_count": 70,
   "metadata": {},
   "outputs": [
    {
     "data": {
      "text/latex": [
       "$\\displaystyle \\frac{60}{px}$"
      ],
      "text/plain": [
       "60/px"
      ]
     },
     "execution_count": 70,
     "metadata": {},
     "output_type": "execute_result"
    }
   ],
   "source": [
    "\n",
    "demanda_individual_x = Lt.subs(y, igy )\n",
    "demanda_individual_x = sp.solve(demanda_individual_x, x)[0]\n",
    "demanda_individual_x"
   ]
  },
  {
   "cell_type": "markdown",
   "metadata": {},
   "source": [
    "La función de demanda total de mercado es la suma horizontal de las demandas individuales, que son 100. Por lo que"
   ]
  },
  {
   "cell_type": "code",
   "execution_count": 71,
   "metadata": {},
   "outputs": [
    {
     "data": {
      "text/latex": [
       "$\\displaystyle \\frac{6000}{px}$"
      ],
      "text/plain": [
       "6000/px"
      ]
     },
     "execution_count": 71,
     "metadata": {},
     "output_type": "execute_result"
    }
   ],
   "source": [
    "demanda_total_x = demanda_individual_x*cantidad_de_empresas\n",
    "demanda_total_x"
   ]
  },
  {
   "cell_type": "markdown",
   "metadata": {},
   "source": [
    "b) Sabemos que la curva de oferta de la empresa a corto plazo comienza a ofrecer cantidades positivas cuando el precio sea mayor o igual que el costo variable medio mínimo. Y en el largo plazo cuando el precio sea mayor o igual que el costo medio mínimo. Por lo tanto tenemos que"
   ]
  },
  {
   "cell_type": "code",
   "execution_count": 72,
   "metadata": {},
   "outputs": [
    {
     "data": {
      "text/latex": [
       "$\\displaystyle x + 0.1 + \\frac{10}{x}$"
      ],
      "text/plain": [
       "x + 0.1 + 10/x"
      ]
     },
     "execution_count": 72,
     "metadata": {},
     "output_type": "execute_result"
    }
   ],
   "source": [
    "CME = sp.simplify( CT/x )\n",
    "CME"
   ]
  },
  {
   "cell_type": "code",
   "execution_count": 73,
   "metadata": {},
   "outputs": [
    {
     "data": {
      "text/latex": [
       "$\\displaystyle x + 0.1$"
      ],
      "text/plain": [
       "x + 0.1"
      ]
     },
     "execution_count": 73,
     "metadata": {},
     "output_type": "execute_result"
    }
   ],
   "source": [
    "CVME = sp.simplify( (CT-10)/x)\n",
    "CVME"
   ]
  },
  {
   "cell_type": "code",
   "execution_count": 74,
   "metadata": {},
   "outputs": [
    {
     "data": {
      "text/latex": [
       "$\\displaystyle 2 x + 0.1$"
      ],
      "text/plain": [
       "2*x + 0.1"
      ]
     },
     "execution_count": 74,
     "metadata": {},
     "output_type": "execute_result"
    }
   ],
   "source": [
    "CMg = sp.diff(CT, x)\n",
    "CMg"
   ]
  },
  {
   "cell_type": "markdown",
   "metadata": {},
   "source": [
    "Dado que tanto el CVMe como el CMg son rectas con ordenada al origen 0,1, la curva de oferta de corto plazo será. Oferta individual a corto plazo :\n",
    "- si px < 0,1 => xi = 0\n",
    "- si px >= 0.1 xj será tal que px = 2x +0.1\n",
    "- xj =(px-0.1)/2\n"
   ]
  },
  {
   "cell_type": "code",
   "execution_count": 75,
   "metadata": {},
   "outputs": [
    {
     "data": {
      "image/png": "[encoded data removed]",
      "text/plain": [
       "<Figure size 432x288 with 1 Axes>"
      ]
     },
     "metadata": {
      "needs_background": "light"
     },
     "output_type": "display_data"
    }
   ],
   "source": [
    "pl1 = sp.plot(CT, xlim=[0,25],ylim=[0,25], show=False, line_color = 'Blue')\n",
    "pl2 = sp.plot(CME, (x, 0, 100), show=False, line_color = 'Green')\n",
    "pl3 = sp.plot(CVME, (x, 0, 100), show=False, line_color = 'Magenta')\n",
    "pl4 = sp.plot(CMg, (x, 0, 100), show=False, line_color = 'Orange')\n",
    "pl1.append(pl2[0])\n",
    "pl1.append(pl3[0])\n",
    "pl1.append(pl4[0])\n",
    "pl1.show()"
   ]
  },
  {
   "cell_type": "markdown",
   "metadata": {},
   "source": [
    "La oferta de la industria es la suma horizontal de las ofertas individuales. En este caso, dado que hay 100 empresas, sabemos que:\n",
    "\n",
    "mercado_x = sumatoria detodas las xj para todo j entre 0 y 100\n",
    "- si px < 0,1 => mercado_x = 100 * xj =0\n",
    "- px >= 0,1 => mercado_x = 100 * xj = 100 * (px - 0,1) / 2\n",
    "\n",
    "d) Para hallar el equilibrio de mercado tenemos que igualar oferta a demanda. Entonces:"
   ]
  },
  {
   "cell_type": "code",
   "execution_count": 137,
   "metadata": {},
   "outputs": [
    {
     "data": {
      "text/latex": [
       "$\\displaystyle - 50 px + 5.0 + \\frac{6000}{px}$"
      ],
      "text/plain": [
       "-50*px + 5.0 + 6000/px"
      ]
     },
     "execution_count": 137,
     "metadata": {},
     "output_type": "execute_result"
    }
   ],
   "source": [
    "oferta_individual_x = (px - 0.1) / 2\n",
    "oferta_total_x = cantidad_de_empresas * oferta_individual_x\n",
    "oferta_total_x = sp.simplify(oferta_total_x)\n",
    "#oferta_total_x = 50 * px - 5\n",
    "\n",
    "igualdad_oferta_demanda_total_x = demanda_total_x - oferta_total_x\n",
    "\n",
    "sp.simplify(igualdad_oferta_demanda_total_x)\n"
   ]
  },
  {
   "cell_type": "markdown",
   "metadata": {},
   "source": [
    "Buscando el (o los) valor(es) de px . Como la igualdad da un resultado cuadrático, vamos a encontrar dos raíces. "
   ]
  },
  {
   "cell_type": "code",
   "execution_count": 77,
   "metadata": {},
   "outputs": [
    {
     "data": {
      "text/latex": [
       "$\\displaystyle \\left\\{-10.9045652583752, 11.0045652583752\\right\\}$"
      ],
      "text/plain": [
       "FiniteSet(-10.9045652583752, 11.0045652583752)"
      ]
     },
     "execution_count": 77,
     "metadata": {},
     "output_type": "execute_result"
    }
   ],
   "source": [
    "px_equilibrio = sp.solveset(igualdad_oferta_demanda_total_x, px)\n",
    "px_equilibrio "
   ]
  },
  {
   "cell_type": "markdown",
   "metadata": {},
   "source": [
    "Elegimos la raíz positiva porque no existen cantidades negativas. "
   ]
  },
  {
   "cell_type": "code",
   "execution_count": 78,
   "metadata": {},
   "outputs": [
    {
     "data": {
      "text/plain": [
       "11.004565258375159"
      ]
     },
     "execution_count": 78,
     "metadata": {},
     "output_type": "execute_result"
    }
   ],
   "source": [
    "px_equilibrio = float(px_equilibrio.args[1])\n",
    "px_equilibrio"
   ]
  },
  {
   "cell_type": "markdown",
   "metadata": {},
   "source": [
    "Expreso demanda total y oferta total en función de cantidades y Grafico"
   ]
  },
  {
   "cell_type": "code",
   "execution_count": 79,
   "metadata": {},
   "outputs": [],
   "source": [
    "demanda_total_x_en_funcion_de_cantidad = sp.solve(sp.Eq(x,demanda_total_x), px)[0]\n",
    "oferta_total_x_en_funcion_de_cantidad = sp.solve(sp.Eq(x,oferta_total_x), px)[0]\n",
    "cantidad_total_equilibrio = demanda_total_x.subs(px, px_equilibrio)"
   ]
  },
  {
   "cell_type": "code",
   "execution_count": 80,
   "metadata": {},
   "outputs": [
    {
     "data": {
      "image/png": "[encoded data removed]",
      "text/plain": [
       "<Figure size 432x288 with 1 Axes>"
      ]
     },
     "metadata": {
      "needs_background": "light"
     },
     "output_type": "display_data"
    }
   ],
   "source": [
    "\n",
    "pl5 = sp.plot(demanda_total_x_en_funcion_de_cantidad, (x, 0, 800), ylim = (0.0, 20.0), show = False)\n",
    "pl6 = sp.plot(oferta_total_x_en_funcion_de_cantidad, (x, 0, 800), ylim = (0.0, 20.0), line_color = 'red', show = False)\n",
    "pl7 = sp.plot(px_equilibrio, (x, 0, 800), line_color = 'gray', show = False)\n",
    "# pl8 = sp.plot_implicit(sp.Eq(px, cantidad_total_equilibrio), (x, 0, 800), show = False) # vertical line \n",
    "pl5.append(pl6[0])\n",
    "pl5.append(pl7[0])\n",
    "# pl5.append(pl8[0])\n",
    "pl5.show()"
   ]
  },
  {
   "cell_type": "code",
   "execution_count": 81,
   "metadata": {},
   "outputs": [
    {
     "data": {
      "text/latex": [
       "$\\displaystyle 5.45228262918758$"
      ],
      "text/plain": [
       "5.45228262918758"
      ]
     },
     "execution_count": 81,
     "metadata": {},
     "output_type": "execute_result"
    }
   ],
   "source": [
    "cantidad_individual_equilibrio = cantidad_total_equilibrio / cantidad_de_empresas\n",
    "cantidad_individual_equilibrio"
   ]
  },
  {
   "cell_type": "markdown",
   "metadata": {},
   "source": [
    "Por tanto el precio de mercado de equilibrio es de 11$ y las cantidades de equilibrio son 545 unidades. \n",
    "Para saber las cantidades individuales demandadas y ofrecidas reemplazamos el precio de equilibrio en cada caso y obtenemos que cada individuo demanda 5.45 unidades mientras que cada productor ofrece, a su vez, 5.45 unidades."
   ]
  },
  {
   "cell_type": "code",
   "execution_count": null,
   "metadata": {},
   "outputs": [],
   "source": []
  },
  {
   "cell_type": "markdown",
   "metadata": {},
   "source": [
    "e) Para saber el beneficio de cada empresa partimos del problema de productor, con los valores hallados"
   ]
  },
  {
   "cell_type": "code",
   "execution_count": 82,
   "metadata": {},
   "outputs": [
    {
     "data": {
      "text/latex": [
       "$\\displaystyle 19.7273858685406$"
      ],
      "text/plain": [
       "19.7273858685406"
      ]
     },
     "execution_count": 82,
     "metadata": {},
     "output_type": "execute_result"
    }
   ],
   "source": [
    "beneficio = ingreso.subs({px: px_equilibrio, x: cantidad_individual_equilibrio }) - CT.subs(x, cantidad_individual_equilibrio)\n",
    "beneficio"
   ]
  },
  {
   "cell_type": "markdown",
   "metadata": {},
   "source": [
    "Por lo tanto, dado que hay beneficios positivos, hay incentivos a que entren más empresas en este mercado."
   ]
  },
  {
   "cell_type": "markdown",
   "metadata": {},
   "source": [
    "7.2 Dado un shock tecnológico positivo, la función de costos de cada empresa queda redefinida como"
   ]
  },
  {
   "cell_type": "code",
   "execution_count": 83,
   "metadata": {},
   "outputs": [],
   "source": [
    "CT = 0.5 * x**2 + 0.1 * x + 10"
   ]
  },
  {
   "cell_type": "markdown",
   "metadata": {},
   "source": [
    "Por lo tanto tenemos que"
   ]
  },
  {
   "cell_type": "code",
   "execution_count": 116,
   "metadata": {},
   "outputs": [],
   "source": [
    "CME = sp.simplify(CT / x)\n",
    "CVME = sp.simplify((CT - 10) / x)\n",
    "CVMg = sp.diff((CT - 10), x)\n",
    "CMg = sp.diff(CT, x)"
   ]
  },
  {
   "cell_type": "markdown",
   "metadata": {},
   "source": [
    "La curva de oferta de corto plazo es\n",
    "- si px < 0.1\n",
    " - x = 0\n",
    "- si px > = 0.1\n",
    " - x = px - 0.1\n",
    "\n",
    "La oferta total de la industria será la sumatoria de todas las cantidades ofrecidas será\n",
    "- si px < 0.1 => \n",
    " - oferta_total_x = cantidad_de_empresas\n",
    " - oferta_individual_x = 0\n",
    "- si px > = 0.1 => x = px-0.1\n",
    " - oferta_total_x = cantidad_de_empresas\n",
    " - oferta_individual_x = cantidad_de_empresas*(px - 0.1)"
   ]
  },
  {
   "cell_type": "markdown",
   "metadata": {},
   "source": [
    "Para hallar el equilibrio de mercado, al igual que en el caso anterior, tenemos que igualar la oferta y la demanda.\n",
    "Entonces"
   ]
  },
  {
   "cell_type": "code",
   "execution_count": 85,
   "metadata": {},
   "outputs": [
    {
     "data": {
      "text/latex": [
       "$\\displaystyle - 100 px + 10.0 + \\frac{6000}{px}$"
      ],
      "text/plain": [
       "-100*px + 10.0 + 6000/px"
      ]
     },
     "execution_count": 85,
     "metadata": {},
     "output_type": "execute_result"
    }
   ],
   "source": [
    "oferta_total_x = cantidad_de_empresas * (px - 0.1)\n",
    "oferta_total_x = sp.simplify(oferta_total_x)\n",
    "#oferta_total_x = 50 * px - 5\n",
    "\n",
    "igualdad_oferta_demanda_total_x = demanda_total_x - oferta_total_x\n",
    "\n",
    "sp.simplify(igualdad_oferta_demanda_total_x)"
   ]
  },
  {
   "cell_type": "code",
   "execution_count": 86,
   "metadata": {},
   "outputs": [
    {
     "data": {
      "text/latex": [
       "$\\displaystyle \\left\\{-7.69612806503998, 7.79612806503998\\right\\}$"
      ],
      "text/plain": [
       "FiniteSet(-7.69612806503998, 7.79612806503998)"
      ]
     },
     "execution_count": 86,
     "metadata": {},
     "output_type": "execute_result"
    }
   ],
   "source": [
    "px_equilibrio = sp.solveset(igualdad_oferta_demanda_total_x, px)\n",
    "px_equilibrio \n"
   ]
  },
  {
   "cell_type": "code",
   "execution_count": 89,
   "metadata": {},
   "outputs": [
    {
     "data": {
      "text/plain": [
       "7.796128065039978"
      ]
     },
     "execution_count": 89,
     "metadata": {},
     "output_type": "execute_result"
    }
   ],
   "source": [
    "px_equilibrio = float(px_equilibrio.args[1])\n",
    "px_equilibrio"
   ]
  },
  {
   "cell_type": "markdown",
   "metadata": {},
   "source": [
    "Por tanto el precio de mercado de equilibrio es de 7,79$ y las cantidades de equilibrio son 770 unidades. Para saber las cantidades individuales demandadas y ofrecidas reemplazamos el precio de equilibrio en cada caso\n",
    "y obtenemos que cada individuo demanda 7,7 unidades mientras que cada productor ofrece, a su vez, 7,7 unidades. Para saber el beneficio de cada empresa partimos del problema de productor, con los valores hallados"
   ]
  },
  {
   "cell_type": "code",
   "execution_count": 90,
   "metadata": {},
   "outputs": [
    {
     "data": {
      "text/latex": [
       "$\\displaystyle 17.0977724267502$"
      ],
      "text/plain": [
       "17.0977724267502"
      ]
     },
     "execution_count": 90,
     "metadata": {},
     "output_type": "execute_result"
    }
   ],
   "source": [
    "beneficio = ingreso.subs({px: px_equilibrio, x: cantidad_individual_equilibrio }) - CT.subs(x, cantidad_individual_equilibrio)\n",
    "beneficio"
   ]
  },
  {
   "cell_type": "markdown",
   "metadata": {},
   "source": [
    "Por lo tanto, dado que hay beneficios positivos, hay incentivos a que entren más empresas en este mercado."
   ]
  },
  {
   "cell_type": "markdown",
   "metadata": {},
   "source": [
    "i) Para hallar el equilibrio de largo plazo, con libre entrada y salida de empresas, tenemos que encontrar cuál es el precio para el que no hay incentivos a que cambie el número de empresas en el mercado. Lo que es decir, cuando los beneficios extraordinarios son cero. Buscamos el CMe mínimo"
   ]
  },
  {
   "cell_type": "code",
   "execution_count": 118,
   "metadata": {},
   "outputs": [
    {
     "data": {
      "text/latex": [
       "$\\displaystyle 0.5 x + 0.1 + \\frac{10}{x}$"
      ],
      "text/plain": [
       "0.5*x + 0.1 + 10/x"
      ]
     },
     "execution_count": 118,
     "metadata": {},
     "output_type": "execute_result"
    }
   ],
   "source": [
    "CME"
   ]
  },
  {
   "cell_type": "code",
   "execution_count": 119,
   "metadata": {},
   "outputs": [
    {
     "data": {
      "text/latex": [
       "$\\displaystyle 0.5 x + 0.1$"
      ],
      "text/plain": [
       "0.5*x + 0.1"
      ]
     },
     "execution_count": 119,
     "metadata": {},
     "output_type": "execute_result"
    }
   ],
   "source": [
    "CVME"
   ]
  },
  {
   "cell_type": "code",
   "execution_count": 122,
   "metadata": {},
   "outputs": [
    {
     "data": {
      "text/latex": [
       "$\\displaystyle 1.0 x + 0.1$"
      ],
      "text/plain": [
       "1.0*x + 0.1"
      ]
     },
     "execution_count": 122,
     "metadata": {},
     "output_type": "execute_result"
    }
   ],
   "source": [
    "CMg"
   ]
  },
  {
   "cell_type": "code",
   "execution_count": 108,
   "metadata": {},
   "outputs": [
    {
     "data": {
      "text/latex": [
       "$\\displaystyle 4.47213595499958$"
      ],
      "text/plain": [
       "4.47213595499958"
      ]
     },
     "execution_count": 108,
     "metadata": {},
     "output_type": "execute_result"
    }
   ],
   "source": [
    "cantidad_minima_producida = sp.solveset(sp.Eq(CME-CMg,0)).args[1]\n",
    "cantidad_minima_producida"
   ]
  },
  {
   "cell_type": "code",
   "execution_count": 131,
   "metadata": {},
   "outputs": [
    {
     "data": {
      "text/latex": [
       "$\\displaystyle 2.33606797749979$"
      ],
      "text/plain": [
       "2.33606797749979"
      ]
     },
     "execution_count": 131,
     "metadata": {},
     "output_type": "execute_result"
    }
   ],
   "source": [
    "CVME_minimo = CVME.subs(x,cantidad_minima_producida)\n",
    "CVME_minimo\n"
   ]
  },
  {
   "cell_type": "code",
   "execution_count": 132,
   "metadata": {},
   "outputs": [
    {
     "data": {
      "text/latex": [
       "$\\displaystyle 4.57213595499958$"
      ],
      "text/plain": [
       "4.57213595499958"
      ]
     },
     "execution_count": 132,
     "metadata": {},
     "output_type": "execute_result"
    }
   ],
   "source": [
    "CME_minimo = CME.subs(x,cantidad_minima_producida)\n",
    "CME_minimo"
   ]
  },
  {
   "cell_type": "code",
   "execution_count": 216,
   "metadata": {},
   "outputs": [
    {
     "data": {
      "image/png": "[encoded data removed]",
      "text/plain": [
       "<Figure size 432x288 with 1 Axes>"
      ]
     },
     "metadata": {
      "needs_background": "light"
     },
     "output_type": "display_data"
    }
   ],
   "source": [
    "pl13 = sp.plot(CMg, (x, 0, 10), xlim = (0.0, 10.0),  ylim = (0.0, 10.0), line_color=\"green\", show = False)\n",
    "pl14 = sp.plot(CME, show = False)\n",
    "pl15 = sp.plot(CVME, show = False)\n",
    "pl16 = sp.plot(CME_minimo, line_color = \"red\", show = False)\n",
    "pl17 = sp.plot(px_equilibrio, line_color = \"gray\", show = False)\n",
    "\n",
    "pl13.append(pl14[0])\n",
    "\n",
    "pl13.append(pl15[0])\n",
    "pl13.append(pl16[0])\n",
    "pl13.append(pl17[0])\n",
    "pl13.show()\n",
    "\n",
    "# to do : labels, ejes verticales"
   ]
  },
  {
   "cell_type": "markdown",
   "metadata": {},
   "source": [
    "A pecio $4.57 sabemos que no existirán incentivos a que entren ni salgan empresas del mercado. Por tanto, las cantidades demandadas son"
   ]
  },
  {
   "cell_type": "code",
   "execution_count": 219,
   "metadata": {},
   "outputs": [
    {
     "data": {
      "text/latex": [
       "$\\displaystyle 1312.29693496736$"
      ],
      "text/plain": [
       "1312.29693496736"
      ]
     },
     "execution_count": 219,
     "metadata": {},
     "output_type": "execute_result"
    }
   ],
   "source": [
    "demanda_minima = demanda_total_x.subs(px, CME_minimo)\n",
    "demanda_minima "
   ]
  },
  {
   "cell_type": "markdown",
   "metadata": {},
   "source": [
    "Sabiendo que cada empresa, a precio $4.57(CME_minimo) ofrece 4.47 unidades(cantidad_minima_producida), entonces averiguamos la cantidad de consumidores dispuestos a comprar esa cantidad a ese precio\n",
    "Donde n es el número de empresas de equilibrio.\n",
    "- cantidad_de_empresas =  n * cantidad_minima_producida = demanda_minima"
   ]
  },
  {
   "cell_type": "code",
   "execution_count": 227,
   "metadata": {},
   "outputs": [
    {
     "data": {
      "text/latex": [
       "$\\displaystyle 293.438515325164$"
      ],
      "text/plain": [
       "293.438515325164"
      ]
     },
     "execution_count": 227,
     "metadata": {},
     "output_type": "execute_result"
    }
   ],
   "source": [
    "cantidad_de_empresas =  sp.solve(sp.Eq(n * cantidad_minima_producida , demanda_minima), n)[0]\n",
    "cantidad_de_empresas"
   ]
  },
  {
   "cell_type": "markdown",
   "metadata": {},
   "source": [
    "En este mercado, por lo tanto, caben 293,71 empresas."
   ]
  },
  {
   "cell_type": "code",
   "execution_count": 214,
   "metadata": {},
   "outputs": [],
   "source": [
    "demanda_total_x_en_funcion_de_cantidad = sp.solve(sp.Eq(x,demanda_total_x), px)[0]\n",
    "oferta_total_x_en_funcion_de_cantidad = sp.solve(sp.Eq(x,oferta_total_x), px)[0]\n",
    "\n",
    "cantidad_total_equilibrio = demanda_total_x.subs(px, px_equilibrio)\n",
    "\n",
    "cantidad_individual_equilibrio = cantidad_total_equilibrio / cantidad_de_empresas\n",
    "\n",
    "igualdad_oferta_demanda_totales = sp.solveset(sp.Eq(demanda_total_x_en_funcion_de_cantidad-oferta_total_x_en_funcion_de_cantidad,0)).args[1]\n",
    "px_equilibrio_total = demanda_total_x_en_funcion_de_cantidad.subs(x,igualdad_oferta_demanda_totales)"
   ]
  },
  {
   "cell_type": "code",
   "execution_count": 215,
   "metadata": {},
   "outputs": [
    {
     "data": {
      "image/png": "[encoded data removed]",
      "text/plain": [
       "<Figure size 432x288 with 1 Axes>"
      ]
     },
     "metadata": {
      "needs_background": "light"
     },
     "output_type": "display_data"
    }
   ],
   "source": [
    "pl18 = sp.plot(demanda_total_x_en_funcion_de_cantidad, (x, 0, 800), xlim = (0.0, 800.0),  ylim = (0.0, 50.0), show = False)\n",
    "pl19 = sp.plot(oferta_total_x_en_funcion_de_cantidad, (x, 0, 800), show = False)\n",
    "pl20 = sp.plot(px_equilibrio_total, (x, 0, 800), line_color = \"gray\" , show = False)\n",
    "pl18.append(pl19[0])\n",
    "pl18.append(pl20[0])\n",
    "pl18.show()"
   ]
  },
  {
   "cell_type": "markdown",
   "metadata": {},
   "source": [
    "El productor tendrá incentivos a retirarse del mercado si el precio es menor al costo variable medio mínimo.\n"
   ]
  },
  {
   "cell_type": "code",
   "execution_count": 235,
   "metadata": {},
   "outputs": [
    {
     "name": "stdout",
     "output_type": "stream",
     "text": [
      "En corto y largo plazo produce porque el precio de equilbrio $7.796128065039978 es mayor tanto al costo variable medio mínimo  $2.33606797749979 como al costo medio mínimo $4.57213595499958.\n"
     ]
    }
   ],
   "source": [
    "if CVME_minimo < CME_minimo:\n",
    "    if px_equilibrio < CVME_minimo:\n",
    "        print(f\"El productor tendrá incentivos a retirarse del mercado porque el precio de equilibrio ${px_equilibrio} es menor que el costo medio variable mínimo ${CVME_minimo}\")\n",
    "    elif (px_equilibrio < CME_minimo):\n",
    "        print(f\"el precio de equilibrio ${px_equilibrio} es mayor que el costo medio variable mínimo ${CVME_minimo}, pero no llega al monto del costo medio mínimo de ${CME_minimo}. Por lo tanto en corto plazo produce, pero en largo plazo se retira del mercado\")\n",
    "    else:\n",
    "        print(f\"En corto y largo plazo produce porque el precio de equilbrio ${px_equilibrio} es mayor tanto al costo variable medio mínimo  ${CVME_minimo} como al costo medio mínimo ${CME_minimo}.\")\n",
    "else:\n",
    "    print(\"CVME_minimo es mayor a CME_minimo y no entiendo qué significa\")\n"
   ]
  },
  {
   "cell_type": "markdown",
   "metadata": {},
   "source": [
    "En el corto plazo si el precio se encuentra entre el costo variable medio mínimo y el costo medio mínimo, produce, ya que cubre los costos variables y parte de los costos fijos. En largo plazo se retira del mercado."
   ]
  },
  {
   "cell_type": "markdown",
   "metadata": {},
   "source": [
    "Si el precio es igual al costo medio mínimo, todos los factores  utilizados en la producción se ven retribuidos a sus costos de oportunidad.\n",
    "Si el precio es mayor que el costo medio mínimo el productor gozará de beneficios extraordinarios."
   ]
  },
  {
   "cell_type": "markdown",
   "metadata": {},
   "source": [
    "============================================"
   ]
  },
  {
   "cell_type": "markdown",
   "metadata": {},
   "source": [
    "La oferta del mercado es la suma horizontal de las ofertas individuales. Por lo tanto en la medida en que existan más empresas , la pendiente de la curva de oferta se aplana"
   ]
  },
  {
   "cell_type": "code",
   "execution_count": 175,
   "metadata": {},
   "outputs": [
    {
     "data": {
      "image/png": "[encoded data removed]",
      "text/plain": [
       "<Figure size 432x288 with 1 Axes>"
      ]
     },
     "metadata": {
      "needs_background": "light"
     },
     "output_type": "display_data"
    }
   ],
   "source": [
    "pl9 = sp.plot(CME_minimo, (x, 0, 20), xlim = (0.0, 20.0), ylim = (0.0, 10.0), show = False)\n",
    "pl10 = sp.plot(oferta_individual_x, show = False)\n",
    "pl11 = sp.plot(oferta_individual_x*2, show = False)\n",
    "pl12 = sp.plot(oferta_individual_x*3, show = False)\n",
    "\n",
    "\n",
    "pl9.append(pl10[0])\n",
    "pl9.append(pl11[0])\n",
    "pl9.append(pl12[0])\n",
    "pl9.show()\n",
    "#to do: que se muestren labels, ejes verticales y que la sumatoria de ofertas tenga rango de x mayor sin que tire error"
   ]
  },
  {
   "cell_type": "markdown",
   "metadata": {},
   "source": [
    "Si el precio de mercado en el largo plazo es mayor que el costo medio minimo, las empresas gozarán de beneficios extraordinarios"
   ]
  },
  {
   "cell_type": "markdown",
   "metadata": {},
   "source": [
    "============================================"
   ]
  },
  {
   "cell_type": "markdown",
   "metadata": {},
   "source": []
  }
 ],
 "metadata": {
  "kernelspec": {
   "display_name": "Python 3",
   "language": "python",
   "name": "python3"
  },
  "language_info": {
   "codemirror_mode": {
    "name": "ipython",
    "version": 3
   },
   "file_extension": ".py",
   "mimetype": "text/x-python",
   "name": "python",
   "nbconvert_exporter": "python",
   "pygments_lexer": "ipython3",
   "version": "3.7.6"
  }
 },
 "nbformat": 4,
 "nbformat_minor": 4
}
