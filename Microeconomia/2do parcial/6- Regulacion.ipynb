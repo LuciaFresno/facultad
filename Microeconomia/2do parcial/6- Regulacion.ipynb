{
 "cells": [
  {
   "cell_type": "markdown",
   "metadata": {},
   "source": [
    "# regulacion\n",
    "clase video: https://economicasuba-my.sharepoint.com/:v:/g/personal/96bi42292886_campus_economicas_uba_ar/EY76UXlrvbpIo6pYL5XE31sBx84dfs3nGuIswT-5LDWegg?e=3WQ6pO\n",
    "\n",
    "economia de la regulación.pdf: https://drive.google.com/file/d/1YauSBwbQ89Ib_oKx3XENUSoyUNTiWUWd/view?usp=sharing\n",
    "Apella teoria de la regulación.pdf: https://drive.google.com/file/d/1tOCchKFvOuQZd0COXFAYfrPWbsC2aloY/view?usp=sharing\n"
   ]
  }
 ],
 "metadata": {
  "kernelspec": {
   "display_name": "Python 3",
   "language": "python",
   "name": "python3"
  },
  "language_info": {
   "codemirror_mode": {
    "name": "ipython",
    "version": 3
   },
   "file_extension": ".py",
   "mimetype": "text/x-python",
   "name": "python",
   "nbconvert_exporter": "python",
   "pygments_lexer": "ipython3",
   "version": "3.7.6"
  }
 },
 "nbformat": 4,
 "nbformat_minor": 4
}
