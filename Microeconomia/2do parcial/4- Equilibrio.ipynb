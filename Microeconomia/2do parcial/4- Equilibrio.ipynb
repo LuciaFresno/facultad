{
 "cells": [
  {
   "cell_type": "markdown",
   "metadata": {},
   "source": [
    "# Equilibrio\n",
    "\n",
    "clase video: https://economicasuba-my.sharepoint.com/:v:/g/personal/96bi42292886_campus_economicas_uba_ar/EYpkiGe0z1FHi4S1KW9ryNcB64QY1Ns5wCeyL2QZ0ZgE9w?e=2eTR8m\n",
    "\n",
    "Estabilidad de equilibrio.pdf: https://drive.google.com/file/d/1VsGFbsJfCUG9YPUL-O601u7_8ub8azOg/view?usp=sharing\n",
    "\n",
    "\n",
    "\n",
    "\n",
    "\n",
    "esto no se si sta relacionado\n",
    "\n",
    "# Costos\n",
    "Guia: https://drive.google.com/file/d/1pmR8dMCCnapUQ-cDk-IiOvqhXYIiz35_/view?usp=sharing\n",
    "\n"
   ]
  }
 ],
 "metadata": {
  "kernelspec": {
   "display_name": "Python 3",
   "language": "python",
   "name": "python3"
  },
  "language_info": {
   "codemirror_mode": {
    "name": "ipython",
    "version": 3
   },
   "file_extension": ".py",
   "mimetype": "text/x-python",
   "name": "python",
   "nbconvert_exporter": "python",
   "pygments_lexer": "ipython3",
   "version": "3.7.6"
  }
 },
 "nbformat": 4,
 "nbformat_minor": 4
}
