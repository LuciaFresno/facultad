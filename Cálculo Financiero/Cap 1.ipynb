{
 "cells": [
  {
   "cell_type": "markdown",
   "id": "a2d0533b",
   "metadata": {},
   "source": [
    "# Conceptos básicos"
   ]
  },
  {
   "cell_type": "markdown",
   "id": "533cdf2b",
   "metadata": {},
   "source": [
    "Todo depósito productivo de intereses es un cambio del capital depositado al principio de la operación por el capital incrementado en su interés que el depositario devuelvve a la terminación del convenio. Las operaciones financieras son onerosas, su costo es el interés. Llamamos interés al rendimiento procurado por un capital productivo durante un tiempo dado. "
   ]
  },
  {
   "cell_type": "markdown",
   "id": "447d990d",
   "metadata": {},
   "source": [
    "El tiempo durante el cual el capital está invertido es T (tiempo). Para calcular la cantidad de días exacta entre dos fechas no debe ccontarse uno de los extremos, el primero o el último. La unidad de tiempo ut mide la duración del período en que la tasa otorga $tasa_de_interes a $1 de capital.\n",
    "La cantidad de períodos n es el cociente entre el tiempo y su unidad.\n",
    "n = T / ut\n",
    "Para una tasa anual, por ejemplo \n",
    "n = cantidad_de_dias_depositado / 365 (días si es de Argentina o 360 si es de USA)\n",
    "En todos los casos tanto T como ut deben estar expresados en la misma unidad, así sean días, meses, años u horas."
   ]
  },
  {
   "cell_type": "code",
   "execution_count": 1,
   "id": "63eec50c",
   "metadata": {},
   "outputs": [],
   "source": [
    "from datetime import date #(compara distancia entre dos fechas puntuales, investigar si ofrece otras opciones)\n",
    "# from datetime import timedelta\n",
    "def get_distancia_entre_dos_fechas(inicio, fin, unidad = \"días\"):\n",
    "    delta = date.fromisoformat(fin) - date.fromisoformat(inicio)\n",
    "    if unidad == \"días\":\n",
    "        \n",
    "        return delta.days\n",
    "    \n",
    "    elif unidad == \"meses\":\n",
    "    \n",
    "        return delta.days / 30\n",
    "    \n",
    "    elif unidad == \"año_ar\":\n",
    "    \n",
    "        return delta.days / 365\n",
    "    \n",
    "    elif unidad == \"año_us\":\n",
    "        \n",
    "        return delta.days / 360\n",
    "\n",
    "    \n",
    "def get_n_periodos(T, ut):  \n",
    "    \n",
    "    return T/ut"
   ]
  },
  {
   "cell_type": "markdown",
   "id": "4e8e74d8",
   "metadata": {},
   "source": [
    "## Interés simple"
   ]
  },
  {
   "cell_type": "code",
   "execution_count": 29,
   "id": "56f7a8bd",
   "metadata": {},
   "outputs": [],
   "source": [
    "def get_interes_total(capital_inicial = 0, capital_final = 0, tasa_de_interes = 0, n_periodos = 0):\n",
    "    if capital_inicial != 0 and tasa_de_interes != 0 and n_periodos == 0:\n",
    "        \n",
    "        return capital_inicial * (1 + tasa_de_interes)\n",
    "    \n",
    "    elif capital_final != 0 and tasa_de_inters != 0 and n_periodos == 0:\n",
    "        \n",
    "        return capital_final / (1 + tasa_de_interes)\n",
    "    \n",
    "    elif capital_inicial != 0 and tasa_de_interes != 0 and n_periodos != 0:\n",
    "        \n",
    "        return capital_inicial * tasa_de_interes * n_periodos\n",
    "    \n",
    "def get_tasa_de_interes(capital_inicial = 0 , capital_final = 0 , interes = 0 , n_periodos = 0):\n",
    "    if capital_inicial != 0 and capital_final == 0:\n",
    "        print('caso1: capital inicial, interes, n')\n",
    "        return interes / (capital_inicial * n_periodos)\n",
    "    \n",
    "    elif capital_inicial == 0 and capital_final != 0:\n",
    "        print('caso2: capital final, interes, n')\n",
    "        return \"to do\"\n",
    "    \n",
    "    elif capital_inicial != 0 and capital_final != 0 and  interes == 0 and n_periodos == 0:\n",
    "        #tasa_de_interes_vencida   \n",
    "        print('caso3: capital inicial, capital final - \"Tasa de interes vencida\"')\n",
    "        \n",
    "        return (capital_final - capital_inicial) / capital_inicial\n",
    "    \n",
    "\n",
    "\n",
    "def get_capital_final(capital_inicial = 0, interes = 0, tasa_de_interes = 0, n_periodos = 0): \n",
    "    if capital_inicial != 0:\n",
    "        if tasa_de_interes != 0:\n",
    "            interes = get_interes_total_c0_i(capital_inicial, tasa_de_interes)\n",
    "            \n",
    "        elif interes != 0:\n",
    "            interes = interes\n",
    "            \n",
    "        else:\n",
    "            \n",
    "            return \"Necesito más info para calcular interés\"\n",
    "        \n",
    "    elif interes != 0 and tasa_de_interes != 0 and n_periodos != 0:        \n",
    "        capital_inicial = get_capital_inicial(0, interes, tasa_de_interes , n_periodos)\n",
    "        \n",
    "    return capital_inicial + interes\n",
    "\n",
    "\n",
    "def get_capital_inicial(capital_final = 0, interes = 0, tasa_de_interes = 0, n_periodos = 0):\n",
    "    if capital_final != 0:\n",
    "        if tasa_de_interes != 0:\n",
    "            interes = get_interes_total_c1_i(capital_final, tasa_de_interes)\n",
    "            \n",
    "        elif interes != 0:\n",
    "            interes = interes\n",
    "            \n",
    "        else:\n",
    "            \n",
    "            return \"Necesito más info para calcular interés\"\n",
    "\n",
    "        return capital_final - intereses\n",
    "    \n",
    "    elif interes != 0 and tasa_de_interes != 0 and n_periodos != 0:\n",
    "        \n",
    "        return interes / (tasa_de_interes * n_periodos)\n"
   ]
  },
  {
   "cell_type": "markdown",
   "id": "15a0106f",
   "metadata": {},
   "source": [
    "Problema 1: ¿Qué interés tendrá un capital inicial de $4000 al 1,5% nominal mensual desde el 12/04 al 18/05 del mismo año?"
   ]
  },
  {
   "cell_type": "code",
   "execution_count": 4,
   "id": "5b049c0a",
   "metadata": {},
   "outputs": [
    {
     "name": "stdout",
     "output_type": "stream",
     "text": [
      "El interés será de $ 72.0\n"
     ]
    }
   ],
   "source": [
    "capital_inicial = 4000\n",
    "tasa_de_interes = 1.5 / 100\n",
    "\n",
    "T = get_distancia_entre_dos_fechas('2019-04-12','2019-05-18')\n",
    "ut = 30\n",
    "n = get_n_periodos(T, ut)\n",
    "\n",
    "interes = get_interes_total(capital_inicial, 0, tasa_de_interes, n)\n",
    "print('El interés será de $',interes)"
   ]
  },
  {
   "cell_type": "markdown",
   "id": "585d5aa7",
   "metadata": {},
   "source": [
    "Problema 2: Se compra mercadería y, al abonarla 125 días después, se recargan $500 en concepto de interés simple al 1,4\\% nominal mensual. ¿Cuál es el valor de dicha mercadería al momento del importe?"
   ]
  },
  {
   "cell_type": "code",
   "execution_count": 5,
   "id": "379e32d1",
   "metadata": {},
   "outputs": [
    {
     "name": "stdout",
     "output_type": "stream",
     "text": [
      "El valor de la mercaderia al momento de la compra ees de $ 8571.42857142857\n"
     ]
    }
   ],
   "source": [
    "interes = 500\n",
    "tasa_de_interes = 1.4 / 100\n",
    "T = 125\n",
    "ut = 30\n",
    "n = get_n_periodos(T,ut)\n",
    "\n",
    "capital_inicial = get_capital_inicial(0, interes, tasa_de_interes, n)\n",
    "print('El valor de la mercaderia al momento de la compra ees de $',capital_inicial)\n",
    "\n"
   ]
  },
  {
   "cell_type": "markdown",
   "id": "f38bb8e8",
   "metadata": {},
   "source": [
    "Problema 3: ¿Qué tasa anual de interés fue cargada en un préstamo de 5000 pesos si en 20 días se pagan en concepto de interés simple 65,75 pesos?"
   ]
  },
  {
   "cell_type": "code",
   "execution_count": 6,
   "id": "c3dd007d",
   "metadata": {},
   "outputs": [
    {
     "name": "stdout",
     "output_type": "stream",
     "text": [
      "La tasa anual de interés fue de  0.2399875 %\n"
     ]
    }
   ],
   "source": [
    "interes = 65.75\n",
    "T = 20\n",
    "ut = 365\n",
    "n = get_n_periodos(T,ut)\n",
    "capital_inicial = 5000\n",
    "\n",
    "tasa_de_interes = get_tasa_de_interes(capital_inicial , 0 , interes , n)\n",
    "print('La tasa anual de interés fue de', tasa_de_interes , '%')"
   ]
  },
  {
   "cell_type": "markdown",
   "id": "172cc38b",
   "metadata": {},
   "source": [
    "Pronblema 4: ¿Cuántos días permanece depositado un capital de 600 pesos al 1,6% nominal mensual si genera un interes simple de 8 pesos?"
   ]
  },
  {
   "cell_type": "code",
   "execution_count": 8,
   "id": "12f08ad0",
   "metadata": {},
   "outputs": [
    {
     "name": "stdout",
     "output_type": "stream",
     "text": [
      "El capital permanece depositado durante 25.0 días\n"
     ]
    }
   ],
   "source": [
    "interes = 8\n",
    "ut = 30\n",
    "tasa_de_interes = 1.6 /100\n",
    "capital_inicial = 600\n",
    "\n",
    "\n",
    "#Interes  = capital_inicial * tasa_de_interes * n =  capital_inicial * tasa_de_interes * T / ut \n",
    "T = (interes * ut) / (capital_inicial *  tasa_de_interes)\n",
    "\n",
    "print ('El capital permanece depositado durante', T , 'días')"
   ]
  },
  {
   "cell_type": "markdown",
   "id": "2ec1f9e0",
   "metadata": {},
   "source": [
    "## Monto Simple\n",
    "\n",
    "Cuando los intereses se calculan siempre sobre el capital inicialmente invertido estamos frente al denominado régimen simple de cálculo de interés simple. Esto puede pasar durante más de un período.\n",
    "Los intereses de cada período son idénticos entre sí porque se calculan sobre el mismo monto inicial. Al finalizar el último período se suman entre si. Como son iguales entre si, por simpleza, los multiplicamos por la cantidad de períodos durante los cuales el monto inicial estuvo depositado.\n",
    "El factor (1 + i * n) permite hallar el valor futuro de un valor presente recorriendo cada uno de los n períodos hacia adelante. A su vez su inversa (1 + i * n)^(-1) nos permite hallar el valor presente de un valor futuro posicionado n períodos más adelante. "
   ]
  },
  {
   "cell_type": "markdown",
   "id": "58c08602",
   "metadata": {},
   "source": [
    "Problema 5: Silvana compra un automomvil de 10000 pesos pagando la mitad al contado y el resto con un documento cuyo vencimiento se produce en 20 días desde la fecha de la compra. Calcular el valor nominal del mencionado documento, teniendo en cuenta que se cargaron intereses al 1,5% nominal mensual."
   ]
  },
  {
   "cell_type": "code",
   "execution_count": null,
   "id": "b705d77c",
   "metadata": {},
   "outputs": [],
   "source": [
    "def get_factor_de_actualizacion(tasa_de_interes , n_periodos, actualiza = 0):\n",
    "    factor = (1 + (tasa_de_interes * n) )\n",
    "    if actualiza == 0:\n",
    "        \n",
    "        return factor\n",
    "    \n",
    "    elif actualiza == 1:\n",
    "        \n",
    "        return factor**(-1)"
   ]
  },
  {
   "cell_type": "code",
   "execution_count": 22,
   "id": "7ce8b265",
   "metadata": {},
   "outputs": [
    {
     "name": "stdout",
     "output_type": "stream",
     "text": [
      "El documento se firma por  5050.0\n"
     ]
    }
   ],
   "source": [
    "tasa_de_interes = 1.5 /100\n",
    "ut = 30\n",
    "T = 20\n",
    "n = get_n_periodos(T,ut)\n",
    "factor_de_actualizacion = get_factor_de_actualizacion(tasa_de_interes, n)\n",
    "valor_inicial = 10000 / 2\n",
    "\n",
    "valor_final = valor_inicial * factor_de_actualizacion\n",
    "print ('El documento se firma por', valor_final)"
   ]
  },
  {
   "cell_type": "markdown",
   "id": "b381c9f9",
   "metadata": {},
   "source": [
    "Problema 6: Olga depositó una suma de dinero durante 90 días al 1,8% mensual. Al finalizar el plazo su saldo fue de 6000 pesos. ¿Cuál fue el valor de su depósito inicial?"
   ]
  },
  {
   "cell_type": "code",
   "execution_count": 24,
   "id": "40d97c54",
   "metadata": {},
   "outputs": [
    {
     "name": "stdout",
     "output_type": "stream",
     "text": [
      "Olga depositó inicialmente $ 5692.599620493358\n"
     ]
    }
   ],
   "source": [
    "tasa_de_interes = 1.8 /100\n",
    "ut = 30\n",
    "T = 90\n",
    "valor_final = 6000\n",
    "\n",
    "n = get_n_periodos(T,ut)\n",
    "factor_de_actualizacion = get_factor_de_actualizacion(tasa_de_interes, n, 1)\n",
    "\n",
    "valor_inicial = valor_final * factor_de_actualizacion\n",
    "print('Olga depositó inicialmente $', valor_inicial)"
   ]
  },
  {
   "cell_type": "markdown",
   "id": "1b831d50",
   "metadata": {},
   "source": [
    "Problema 7: ¿A qué tasa nominal mensual está calculada la financiación de artículos de indumentaria si se publica en vidriera una oferta donde a pagar dentro de 20 días la suma total es de 200 pesos mientras que ofreciendo pago al contado piden 180 pesos?"
   ]
  },
  {
   "cell_type": "code",
   "execution_count": 32,
   "id": "f186ad1b",
   "metadata": {},
   "outputs": [
    {
     "name": "stdout",
     "output_type": "stream",
     "text": [
      "La tasa nominal mensual es de 0.16666666666666674\n"
     ]
    }
   ],
   "source": [
    "valor_inicial = 180\n",
    "valor_final = 200\n",
    "T = 20\n",
    "ut = 30\n",
    "n = get_n_periodos(T,ut)\n",
    "#tasa_de_interes = get_tasa_de_interes(valor_inicial , valor_final ,  0 , n) # para 1 sólo periodo # 0,111111111 \n",
    "tasa_de_interes = ((valor_final / valor_inicial)-1)/n # a partir de factor de actualización\n",
    "# ¿POR QUÉ SON DIFERENTES? \n",
    "print('La tasa nominal mensual es de', tasa_de_interes)"
   ]
  },
  {
   "cell_type": "markdown",
   "id": "b88e379d",
   "metadata": {},
   "source": [
    "¿Cuánto tiempo estuvo invertido un capital de 8000 pesos si al 20% nominal anual generó unmonto de 10000 pesos?"
   ]
  },
  {
   "cell_type": "code",
   "execution_count": 28,
   "id": "5a8cd888",
   "metadata": {},
   "outputs": [
    {
     "name": "stdout",
     "output_type": "stream",
     "text": [
      "El capital estuvo invertido durante  456.25 días\n"
     ]
    }
   ],
   "source": [
    "valor_inicial = 8000\n",
    "valor_final = 10000\n",
    "tasa_de_interes = 20 / 100\n",
    "ut= 365\n",
    "T=((valor_final/valor_inicial )-1) * (ut/tasa_de_interes)\n",
    "print ('El capital estuvo invertido durante un mínimo de',  T, 'días para alcanzar el monto final')"
   ]
  },
  {
   "cell_type": "markdown",
   "id": "9931a2f5",
   "metadata": {},
   "source": [
    "## Cambio de tasa durante el tiempo en que se efectúa la operación\n",
    "\n",
    "Si la tasa cambia durante el tiempo que transcurre se corrige el factor de tal manera de ir agregando los intereses a las sucesivas tasas durante el tiempo en que están vigentes. Durante el tiempo T1 la tasa vigente es i1, en el tiempo T2 la tasa es i2 y así el factor de actualización es (1+i1*n1+i2*n2+i3*n3...).\n",
    "\n",
    "## Ecuaciones de balance o de valor\n",
    "\n",
    "Los valores monetarios varían a medida que transcurre el tiempo: para poder sumarlos o restarlos deben ser cantidades homogéneas. Esto significa que deben estar \n",
    "- medidos en la misma unidad monetaria, \n",
    "- de la misma época y, \n",
    "- sobre todo, deben estar valuados en la misma fecha.\n",
    "\n",
    "Para eso elegiremos una fecha focal. El valor de todo lo que se entrega debe ser igual al valor de lo que se recibe. Por eso elegiremos siempre como fecha focal la fecha en que se realiza la transacción."
   ]
  }
 ],
 "metadata": {
  "kernelspec": {
   "display_name": "Python 3",
   "language": "python",
   "name": "python3"
  },
  "language_info": {
   "codemirror_mode": {
    "name": "ipython",
    "version": 3
   },
   "file_extension": ".py",
   "mimetype": "text/x-python",
   "name": "python",
   "nbconvert_exporter": "python",
   "pygments_lexer": "ipython3",
   "version": "3.8.8"
  }
 },
 "nbformat": 4,
 "nbformat_minor": 5
}
